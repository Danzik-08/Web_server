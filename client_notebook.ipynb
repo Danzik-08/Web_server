{
 "cells": [
  {
   "cell_type": "code",
   "execution_count": 319,
   "id": "c99334bd",
   "metadata": {},
   "outputs": [],
   "source": [
    "import pandas as pd\n",
    "import requests as re"
   ]
  },
  {
   "cell_type": "markdown",
   "id": "25dfcfcf",
   "metadata": {},
   "source": [
    "+ В данном ноутбуке, я продемонстрирую обработку запросов в докере для методов fit, predict\n",
    "+ Проверка, что фит отрабатывает в параллельном режиме\n",
    "+ Для того, чтобы показать результативность остальных методов буду кидать запрос на сервер запущенный без докера, чтобы корректно показать файлы в директориях"
   ]
  },
  {
   "cell_type": "markdown",
   "id": "4ccb32ff",
   "metadata": {},
   "source": [
    "##### Проверим работоспособность методов на игрушечных данных"
   ]
  },
  {
   "cell_type": "code",
   "execution_count": 357,
   "id": "f048cf2a",
   "metadata": {},
   "outputs": [],
   "source": [
    "req_fit = {\n",
    "    \"X\": [[1,2],[3,4],[5,6]],\n",
    "    \"y\": [1,3,7],\n",
    "    \"config\":{\n",
    "        \"model\":\"Tree\",\n",
    "        \"task\":\"reg\",\n",
    "        \"name\":\"tmp_1\"\n",
    "    }\n",
    "}\n",
    "\n",
    "req_predict = {\n",
    "    \"X\": [[1,2],[3,4],[5,6]],\n",
    "    \"config\":{\n",
    "        \"model\":\"Tree\",\n",
    "        \"task\":\"reg\",\n",
    "        \"name\":\"tmp_1\"\n",
    "    }\n",
    "}"
   ]
  },
  {
   "cell_type": "code",
   "execution_count": 361,
   "id": "cade8136",
   "metadata": {},
   "outputs": [
    {
     "data": {
      "text/plain": [
       "'{\"msg\":\"Поставлено на обучение, время - 18:19:46, свободных процессов 3, \"}'"
      ]
     },
     "execution_count": 361,
     "metadata": {},
     "output_type": "execute_result"
    }
   ],
   "source": [
    "res_fit = re.post(url='http://0.0.0.0:8000/fit',\n",
    "              json=req_fit)\n",
    "res_fit.text"
   ]
  },
  {
   "cell_type": "code",
   "execution_count": 362,
   "id": "b9136e0f",
   "metadata": {},
   "outputs": [
    {
     "data": {
      "text/plain": [
       "<Response [200]>"
      ]
     },
     "execution_count": 362,
     "metadata": {},
     "output_type": "execute_result"
    }
   ],
   "source": [
    "res_predict = re.post(url='http://0.0.0.0:8000/predict',\n",
    "              json=req_predict)\n",
    "\n",
    "res_predict"
   ]
  },
  {
   "cell_type": "code",
   "execution_count": 363,
   "id": "072834a9",
   "metadata": {},
   "outputs": [
    {
     "data": {
      "text/plain": [
       "'{\"время сохранения модели\":[\"18:19:47\"],\"predictions\":[1.0,3.0,7.0]}'"
      ]
     },
     "execution_count": 363,
     "metadata": {},
     "output_type": "execute_result"
    }
   ],
   "source": [
    "res_predict.text"
   ]
  },
  {
   "cell_type": "markdown",
   "id": "e8457f5f",
   "metadata": {},
   "source": [
    "##### Сделаем проверку на больших данных, заодно проверим параллельность обучения моделей"
   ]
  },
  {
   "cell_type": "code",
   "execution_count": 380,
   "id": "d2508ae7",
   "metadata": {},
   "outputs": [
    {
     "name": "stderr",
     "output_type": "stream",
     "text": [
      "/var/folders/4t/ss801yzj3_585ln7ynwmstgm0000gn/T/ipykernel_9456/2041206027.py:6: RuntimeWarning: coroutine 'ClientSession._request' was never awaited\n",
      "  X = X.tolist()\n",
      "RuntimeWarning: Enable tracemalloc to get the object allocation traceback\n"
     ]
    }
   ],
   "source": [
    "import numpy as np\n",
    "import pandas as pd\n",
    "X = np.random.randint(0,100,size=(1000000, 150))\n",
    "y = np.random.randint(0,100,size=(1000000, 1))\n",
    "\n",
    "X = X.tolist()\n",
    "y = y.ravel().tolist()"
   ]
  },
  {
   "cell_type": "code",
   "execution_count": 377,
   "id": "31f8bde8",
   "metadata": {},
   "outputs": [],
   "source": [
    "## Cоздадим два тела запроса для обучения и предикта, закинем запросы на обучения одновременно и чекнем время\n",
    "\n",
    "req_fit_1 = {\n",
    "    \"X\": X,\n",
    "    \"y\": y,\n",
    "    \"config\":{\n",
    "        \"model\":\"Tree\",\n",
    "        \"task\":\"reg\",\n",
    "        \"name\":\"check_1\"\n",
    "    }\n",
    "}\n",
    "\n",
    "req_predict_1 = {\n",
    "    \"X\": X,\n",
    "    \"config\":{\n",
    "        \"model\":\"Tree\",\n",
    "        \"task\":\"reg\",\n",
    "        \"name\":\"check_1\"\n",
    "    }\n",
    "}\n",
    "\n",
    "req_fit_2 = {\n",
    "    \"X\": X,\n",
    "    \"y\": y,\n",
    "    \"config\":{\n",
    "        \"model\":\"Tree\",\n",
    "        \"task\":\"reg\",\n",
    "        \"name\":\"check_2\"\n",
    "    }\n",
    "}\n",
    "\n",
    "req_predict_2 = {\n",
    "    \"X\": X,\n",
    "    \"config\":{\n",
    "        \"model\":\"Tree\",\n",
    "        \"task\":\"reg\",\n",
    "        \"name\":\"check_2\"\n",
    "    }\n",
    "}"
   ]
  },
  {
   "cell_type": "code",
   "execution_count": 355,
   "id": "0d5e47d0",
   "metadata": {},
   "outputs": [
    {
     "name": "stdout",
     "output_type": "stream",
     "text": [
      "{'msg': 'Поставлено на обучение, время - 18:14:58, свободных процессов 3, '}\n",
      "{'msg': 'Поставлено на обучение, время - 18:15:09, свободных процессов 2, '}\n"
     ]
    }
   ],
   "source": [
    "import asyncio\n",
    "import aiohttp\n",
    "\n",
    "async def test():\n",
    "    async with aiohttp.ClientSession() as session:\n",
    "        res_1 = await session.post(url='http://0.0.0.0:8000/fit', json=req_fit_1)\n",
    "        print(await res_1.json())\n",
    "        res_2 = await session.post(url='http://0.0.0.0:8000/fit', json=req_fit_2)\n",
    "        print(await res_2.json())\n",
    "\n",
    "loop = asyncio.get_event_loop()\n",
    "task = loop.create_task(test())\n",
    "loop.run_until_complete(task)"
   ]
  },
  {
   "cell_type": "code",
   "execution_count": 356,
   "id": "ced71764",
   "metadata": {},
   "outputs": [
    {
     "name": "stdout",
     "output_type": "stream",
     "text": [
      "['18:15:12']\n",
      "['18:15:23']\n"
     ]
    }
   ],
   "source": [
    "res_pred_1 = re.post(url='http://0.0.0.0:8000/predict',\n",
    "              json=req_predict_1)\n",
    "res_pred_2 = re.post(url='http://0.0.0.0:8000/predict',\n",
    "              json=req_predict_2)\n",
    "\n",
    "print(res_pred_1.json()['время сохранения модели'])\n",
    "print(res_pred_2.json()['время сохранения модели'])"
   ]
  },
  {
   "cell_type": "markdown",
   "id": "0c741e53",
   "metadata": {},
   "source": [
    "Видим, что вторая модель поставлена на обучение раньше, чем сохранилась первая. Что говорит о рабочей варианте многороцессорности сервера."
   ]
  },
  {
   "cell_type": "markdown",
   "id": "c1f6ca84",
   "metadata": {},
   "source": [
    "#### Демонстрация методов remove, remove_all"
   ]
  },
  {
   "cell_type": "code",
   "execution_count": 365,
   "id": "5efbc7aa",
   "metadata": {},
   "outputs": [
    {
     "name": "stdout",
     "output_type": "stream",
     "text": [
      "изначальное состояние директории ['check_2.sav', 'check_1.sav', 'tmp_3.sav', 'tmp_2.sav', 'tmp_1.sav']\n",
      "состояние директории после удаления файла tmp_1:  ['check_2.sav', 'check_1.sav', 'tmp_3.sav', 'tmp_2.sav']\n",
      "состояние директории после удаления всех файлов: []\n"
     ]
    }
   ],
   "source": [
    "import os\n",
    "\n",
    "print('изначальное состояние директории',os.listdir(path='/Users/danzan/Desktop/fastApiProject/output'))\n",
    "\n",
    "\n",
    "remove_req = re.post(url='http://127.0.0.1:8000/remove',\n",
    "              json={\n",
    "    \"model\":\"Tree\",\n",
    "    \"task\":\"reg\",\n",
    "    \"name\":\"tmp_1\"\n",
    "})\n",
    "\n",
    "print('состояние директории после удаления файла tmp_1: ',os.listdir(path='/Users/danzan/Desktop/fastApiProject/output'))\n",
    "\n",
    "remove_req = re.get(url='http://127.0.0.1:8000/remove_all')\n",
    "\n",
    "print('состояние директории после удаления всех файлов:',os.listdir(path='/Users/danzan/Desktop/fastApiProject/output'))"
   ]
  },
  {
   "cell_type": "markdown",
   "id": "a68d6ab2",
   "metadata": {},
   "source": [
    "В реализации своего веб-сервера, я не стал использовать ручки load и unload, вместо этого я использую методы load и unload, внутри ручек\n",
    "fit и predict. Не совсем понял целесообразность использования ручек load и unload"
   ]
  },
  {
   "cell_type": "markdown",
   "id": "d104d2f7",
   "metadata": {},
   "source": [
    "#### Демонстрация обработки краевых случаев\n",
    "+ Обработка предикта с несуществующей моделью\n",
    "+ обработка события, когда нет свободных ядер"
   ]
  },
  {
   "cell_type": "code",
   "execution_count": 370,
   "id": "c7635c21",
   "metadata": {},
   "outputs": [
    {
     "data": {
      "text/plain": [
       "'{\"detail\":\"Нет модели с таким именем на диске\"}'"
      ]
     },
     "execution_count": 370,
     "metadata": {},
     "output_type": "execute_result"
    }
   ],
   "source": [
    "req_predict = {\n",
    "    \"X\": [[1,2],[3,4],[5,6]],\n",
    "    \"config\":{\n",
    "        \"model\":\"Tree\",\n",
    "        \"task\":\"reg\",\n",
    "        \"name\":\"tmp_1\"\n",
    "    }\n",
    "}\n",
    "\n",
    "res_predict = re.post(url='http://0.0.0.0:8000/predict',\n",
    "              json=req_predict)\n",
    "\n",
    "res_predict.text"
   ]
  },
  {
   "cell_type": "code",
   "execution_count": null,
   "id": "5c496060",
   "metadata": {},
   "outputs": [],
   "source": []
  },
  {
   "cell_type": "code",
   "execution_count": 383,
   "id": "37abc421",
   "metadata": {},
   "outputs": [
    {
     "name": "stdout",
     "output_type": "stream",
     "text": [
      "{'msg': 'Поставлено на обучение, время - 18:48:26, свободных процессов 3, '}\n",
      "{'msg': 'Поставлено на обучение, время - 18:48:26, свободных процессов 2, '}\n",
      "{'msg': 'Поставлено на обучение, время - 18:48:26, свободных процессов 1, '}\n",
      "{'msg': 'Поставлено на обучение, время - 18:48:26, свободных процессов 0, '}\n",
      "{'detail': 'нет свободных процессов, попробуйте позже'}\n"
     ]
    }
   ],
   "source": [
    "import asyncio\n",
    "import aiohttp\n",
    "\n",
    "import numpy as np\n",
    "import pandas as pd\n",
    "X = np.random.randint(0,100,size=(100, 50))\n",
    "y = np.random.randint(0,100,size=(100, 1))\n",
    "\n",
    "X = X.tolist()\n",
    "y = y.ravel().tolist()\n",
    "\n",
    "req_fit_ex = {\n",
    "    \"X\": X,\n",
    "    \"y\": y,\n",
    "    \"config\":{\n",
    "        \"model\":\"Tree\",\n",
    "        \"task\":\"reg\",\n",
    "        \"name\":\"check_2\"\n",
    "    }\n",
    "} \n",
    "\n",
    "async def test():\n",
    "    async with aiohttp.ClientSession() as session:\n",
    "        res_1 = await session.post(url='http://0.0.0.0:8000/fit', json=req_fit_ex)\n",
    "        print(await res_1.json())\n",
    "        res_2 = await session.post(url='http://0.0.0.0:8000/fit', json=req_fit_ex)\n",
    "        print(await res_2.json())\n",
    "        res_3 = await session.post(url='http://0.0.0.0:8000/fit', json=req_fit_ex)\n",
    "        print(await res_3.json())\n",
    "        res_4 = await session.post(url='http://0.0.0.0:8000/fit', json=req_fit_ex)\n",
    "        print(await res_4.json())\n",
    "        res_5 = await session.post(url='http://0.0.0.0:8000/fit', json=req_fit_ex)\n",
    "        print(await res_5.json())\n",
    "\n",
    "loop = asyncio.get_event_loop()\n",
    "task = loop.create_task(test())\n",
    "loop.run_until_complete(task)"
   ]
  },
  {
   "cell_type": "code",
   "execution_count": 379,
   "id": "55c6c9ce",
   "metadata": {},
   "outputs": [
    {
     "name": "stdout",
     "output_type": "stream",
     "text": [
      "0:00:14.982659\n"
     ]
    }
   ],
   "source": [
    "# from sklearn.tree import DecisionTreeRegressor\n",
    "\n",
    "# tt = DecisionTreeRegressor()\n",
    "# tt.fit(X,y)\n",
    "\n",
    "# from datetime import datetime\n",
    "# import time\n",
    "\n",
    "# start_time = datetime.now()\n",
    "\n",
    "# tt = DecisionTreeRegressor()\n",
    "# tt.fit(X,y)\n",
    "\n",
    "# print(datetime.now() - start_time)\n"
   ]
  },
  {
   "cell_type": "code",
   "execution_count": null,
   "id": "98338af7",
   "metadata": {},
   "outputs": [],
   "source": []
  }
 ],
 "metadata": {
  "kernelspec": {
   "display_name": "Python 3 (ipykernel)",
   "language": "python",
   "name": "python3"
  },
  "language_info": {
   "codemirror_mode": {
    "name": "ipython",
    "version": 3
   },
   "file_extension": ".py",
   "mimetype": "text/x-python",
   "name": "python",
   "nbconvert_exporter": "python",
   "pygments_lexer": "ipython3",
   "version": "3.10.6"
  }
 },
 "nbformat": 4,
 "nbformat_minor": 5
}
